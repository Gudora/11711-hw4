{
 "cells": [
  {
   "cell_type": "code",
   "execution_count": 3,
   "metadata": {},
   "outputs": [],
   "source": [
    "import pandas as pd"
   ]
  },
  {
   "cell_type": "code",
   "execution_count": 4,
   "metadata": {},
   "outputs": [],
   "source": [
    "data = pd.read_csv(\"train_sent_emo.csv\")\n",
    "summary = pd.read_csv(\"summary.csv\")"
   ]
  },
  {
   "cell_type": "code",
   "execution_count": 12,
   "metadata": {},
   "outputs": [
    {
     "data": {
      "text/plain": [
       "0"
      ]
     },
     "execution_count": 12,
     "metadata": {},
     "output_type": "execute_result"
    }
   ],
   "source": [
    "valid = summary[\"id\"].tolist()\n",
    "valid.index(0)"
   ]
  },
  {
   "cell_type": "code",
   "execution_count": 22,
   "metadata": {},
   "outputs": [],
   "source": [
    "import csv\n",
    "headers = [\"Song\", \"line\", \"Surprise\"]\n",
    "\n",
    "# Create a CSV file and write the headers\n",
    "with open('train_raw.csv', 'w', newline='') as file:\n",
    "    writer = csv.writer(file)\n",
    "    writer.writerow(headers)\n"
   ]
  },
  {
   "cell_type": "code",
   "execution_count": 23,
   "metadata": {},
   "outputs": [],
   "source": [
    "for i in range(data.shape[0]):\n",
    "    if data[\"Dialogue_ID\"][i] in valid:\n",
    "        index = valid.index(data[\"Dialogue_ID\"][i])\n",
    "        sentence = f\"#topic#: {summary['topic'][index]}\\n#summary#: {summary['summary'][index]}\\n#sentence#: {data['Utterance'][i]}\\n\"\n",
    "        row = [str(valid.index(data[\"Dialogue_ID\"][i])), data['Utterance'][i], 1 if \"surprise\" in data[\"Emotion\"][i] else 0]\n",
    "        with open('train_raw.csv', 'a', newline='') as file:\n",
    "            writer = csv.writer(file)\n",
    "            writer.writerow(row)"
   ]
  }
 ],
 "metadata": {
  "kernelspec": {
   "display_name": "base",
   "language": "python",
   "name": "python3"
  },
  "language_info": {
   "codemirror_mode": {
    "name": "ipython",
    "version": 3
   },
   "file_extension": ".py",
   "mimetype": "text/x-python",
   "name": "python",
   "nbconvert_exporter": "python",
   "pygments_lexer": "ipython3",
   "version": "3.11.5"
  }
 },
 "nbformat": 4,
 "nbformat_minor": 2
}
